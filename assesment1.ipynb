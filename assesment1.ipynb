{
 "cells": [
  {
   "cell_type": "code",
   "execution_count": 7,
   "id": "97f1401d-21fb-4cfd-8c60-734fecd1fe4b",
   "metadata": {},
   "outputs": [
    {
     "name": "stdout",
     "output_type": "stream",
     "text": [
      "15\n",
      "30\n",
      "45\n",
      "60\n",
      "75\n",
      "90\n"
     ]
    }
   ],
   "source": [
    "#question 3\n",
    "#create a for loop to run through values between 1 and 100\n",
    "for i in range(1,100,1):\n",
    "    if(i%3==0 and i%5==0): # checks if conditions of interest are satisfied \n",
    "        print(i)\n",
    "    "
   ]
  },
  {
   "cell_type": "code",
   "execution_count": 8,
   "id": "1e7ee755-0914-4708-abed-fe99af24cd5d",
   "metadata": {},
   "outputs": [
    {
     "name": "stdout",
     "output_type": "stream",
     "text": [
      "Temperature in degress Fahrenheit is: 68.0\n"
     ]
    }
   ],
   "source": [
    "#question 1\n",
    "\n",
    "#input for temperature in depgress celcius\n",
    "c=int(input(\"Please enter temperature in degress celsius\"))\n",
    "#conversion to fraenheit\n",
    "f=(c*9/5+32)\n",
    "print(\"Temperature in degress Fahrenheit is:\",f)"
   ]
  },
  {
   "cell_type": "code",
   "execution_count": null,
   "id": "45ea8479-e522-47d4-b9f6-7755fe311881",
   "metadata": {},
   "outputs": [],
   "source": [
    "#question 2\n",
    "n = int(input(\"How many terms do you need? \"))\n",
    "\n",
    "def fibonacci_for_loop(n):\n",
    "    fib_seq = [0, 1]  #initate the first 2 terms\n",
    "    for i in range(2, n):   #loop runs from 2 all the way to the nth number \n",
    "        fib = fib_seq[-1] + fib_seq[-2] \n",
    "        fib_seq.append(fib)  #appends or adds new values executed from the loopf\n",
    "    return fib_seq[:n]  \n",
    "print(fibonacci_for_loop(n))\n"
   ]
  }
 ],
 "metadata": {
  "kernelspec": {
   "display_name": "Python 3",
   "language": "python",
   "name": "python3"
  },
  "language_info": {
   "codemirror_mode": {
    "name": "ipython",
    "version": 3
   },
   "file_extension": ".py",
   "mimetype": "text/x-python",
   "name": "python",
   "nbconvert_exporter": "python",
   "pygments_lexer": "ipython3",
   "version": "3.12.7"
  }
 },
 "nbformat": 4,
 "nbformat_minor": 5
}
