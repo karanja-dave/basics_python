{
 "cells": [
  {
   "cell_type": "markdown",
   "id": "13f623b5-71a0-47da-ac8f-c07c84d8d4c6",
   "metadata": {},
   "source": [
    "# Question 2\n",
    "## Solution a\n",
    "let $I$ represent shortlisted candidates invited to the second interview, then $I^1$ represents those shortlisted in $1^{st}$  but not invited to the $2^{nd}$ interview.\\\n",
    "let O( for optimistic) represent invited candidates who feel $1^{st}$ interview went well and P( for pessimistic) represents otherwise, then;\n",
    "\n",
    "$\\Pr(I)=0.5$\\\n",
    "$\\Pr(I^1)=0.5$\\\n",
    "$\\Pr(O|I)=0.9$\\\n",
    "$\\Pr(O|I^1)=0.7$\\\n",
    "$\\Pr(O)=\\Pr(O|I)*\\Pr(I)+\\Pr(O|I^1)*\\Pr(I^1)=0.5(0.9)+0.5(0.7)=0.8$\\\n",
    "Thus,\\\n",
    "$$\n",
    "\\Pr(I|O)=\\frac{\\Pr(O|I)*\\Pr(I)}{\\Pr(O)}=\\frac{0.5(0.9)}{0.8}=\\frac{9}{16}=0.5625\n",
    "$$\n",
    "\n",
    "## Solution b\n",
    "Yes it helps to feel good about the first interview, the reason being that there's a 56.25% likelihood of being invited to the second interview given that you feel your first intervie went well. This likelihood is greater that 50% which is the probability of invitation to the second interview"
   ]
  },
  {
   "cell_type": "code",
   "execution_count": 6,
   "id": "80afd517-6053-4200-94be-24234a48831b",
   "metadata": {},
   "outputs": [],
   "source": [
    "# Question 4 \n",
    "## solution 4a"
   ]
  },
  {
   "cell_type": "markdown",
   "id": "390e2122-5f65-489d-9f8a-5c28404718ad",
   "metadata": {},
   "source": [
    "Given, $odds=\\frac{p}{1-p}$,\\\n",
    "where p is the probability of an event occurring and 1-p is the probability of an event not occuring.\\\n",
    "we define log-odds as;   $\\ln{\\frac{p}{1-p}}$\\\n",
    "since log-odds is linearly related to predictor variables, we have \n",
    "$$\n",
    "\\ln{\\frac{p}{1-p}}=\\beta_0+\\sum_{i=1}^n \\beta_iX_i\\\n",
    "=\\beta_0+\\beta_1X_1+\\beta_2X_2+\\dots+\\beta_nX_n\n",
    "$$\n",
    "\n",
    "where;\n",
    "$\\beta_0$ is the intercept and $\\beta_i^{'s}$ are the coefficients of $X_i^{'s}$\n",
    "\n",
    "let $Z=\\beta_0+\\sum_{i=1}^n \\beta_iX_i$, then\\\n",
    "$\\ln{\\frac{p}{1-p}}=Z$\n",
    "\n",
    "multiplying exponential bothe sides we have;\\\n",
    "$\\frac{p}{1-p}=e^Z$\\\n",
    "solving for p gives;\\\n",
    "$p=(1-p)e^Z=e^Z-pe^Z$\\\n",
    "making p subject of the formula gives\\\n",
    "$$\n",
    "p=\\frac{e^Z}{1+e^Z}=\\frac{e^Z}{e^Z(e^{-Z}+1)}=\\frac{1}{1+e^{-Z}}$$\\\n",
    "but $Z=\\beta_0+\\beta_1X_1+\\beta_2X_2+\\dots+\\beta_nX_n$\\\n",
    "thus p is given as:\\\n",
    "$$\n",
    "p=\\frac{1}{1+e^{-(\\beta_0+\\beta_1X_1+\\beta_2X_2+\\dots+\\beta_nX_n)}}\n",
    "$$\n",
    "which is the activation function for a multilinear  logistic regression model.\\\n",
    "The estimates of $\\beta_o$ and $\\beta_i^{'s}$ are estimated using the maximu likelihood estimation method. This can be easily done using statistical softwares like $R/Python$\\\n",
    "The activation function for a simple logistic regression model can be derived from the multilinear regression by taking only the first two terms and it's given as:\n",
    "$$\n",
    "p=\\frac{1}{1+e^{-(\\beta_0+\\beta_1X_1)}}\n",
    "$$\n",
    "\n",
    "\n",
    "\n",
    "\n"
   ]
  },
  {
   "cell_type": "markdown",
   "id": "e5e9cc6a-5b19-4435-bb50-11fdf0ddb1ff",
   "metadata": {},
   "source": [
    "## Solution 4b"
   ]
  },
  {
   "cell_type": "code",
   "execution_count": 3,
   "id": "3e6f30ca-b87a-4e47-91c6-37fe2fed3d3e",
   "metadata": {},
   "outputs": [
    {
     "data": {
      "text/plain": [
       "Text(0.5, 1.0, 'Sigmoid Curve')"
      ]
     },
     "execution_count": 3,
     "metadata": {},
     "output_type": "execute_result"
    },
    {
     "data": {
      "image/png": "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",
      "text/plain": [
       "<Figure size 640x480 with 1 Axes>"
      ]
     },
     "metadata": {},
     "output_type": "display_data"
    }
   ],
   "source": [
    "#load numpy for computational use\n",
    "import numpy as np\n",
    "#creat 100 values in the interval [-15,15] to use as values for predictor variable x\n",
    "input=np.linspace(-15,15,100)\n",
    "#create a sigmoid(activation) function\n",
    "def sigmoid(x):\n",
    "    return 1/(1+np.exp(-x))\n",
    "\n",
    "#load matplotlib for plotting\n",
    "import matplotlib.pyplot as plt\n",
    "#plot sigmoid curve\n",
    "plt.plot(input,sigmoid(input))\n",
    "#include title\n",
    "plt.title(\"Sigmoid Curve\")"
   ]
  },
  {
   "cell_type": "markdown",
   "id": "f8332a92-390c-49fb-ba6a-d134e4416cbe",
   "metadata": {},
   "source": [
    "# Solution question 3"
   ]
  },
  {
   "cell_type": "code",
   "execution_count": 2,
   "id": "b37278a9-3e21-47c5-a4cc-2d2431512615",
   "metadata": {},
   "outputs": [
    {
     "name": "stdin",
     "output_type": "stream",
     "text": [
      "Enter bird species:  kakao\n"
     ]
    },
    {
     "name": "stdout",
     "output_type": "stream",
     "text": [
      "No recordings found for species: kakao\n"
     ]
    }
   ],
   "source": [
    "#Program is used to download species prompted by user from the xeno canto website"
    "#load request library to handle https requests\n",
    "import requests\n",
    "#load os library to interact with operating system\n",
    "import os \n",
    "#create function to download audio from specified bird species\n",
    "def download_bird_sounds(species):\n",
    "#replace spaces in species with '%20' a syntax for spaces in url\n",
    "    species_query = species.replace(' ', '%20')\n",
    "#create API url to fetch recordings\n",
    "    url = f'https://www.xeno-canto.org/api/2/recordings?query={species_query}'\n",
    "#make API request to get recordings\n",
    "    response = requests.get(url)\n",
    "#extract the JSON response\n",
    "    data = response.json()\n",
    "#check if recordings are  available\n",
    "    if not data['recordings']:\n",
    "#tell user their  species input does not exist\n",
    "        print(f\"No recordings found for species: {species}\")\n",
    "#exit function if species is not available\n",
    "        return  \n",
    "#create a directory for storage of species audio\n",
    "    os.makedirs(species, exist_ok=True) \n",
    "#loop through each recording in the data\n",
    "    for recording in data['recordings']:\n",
    "#get audio file url from a dictionary.\n",
    "        audio_url = recording['file']\n",
    "#check url starts with https\n",
    "        if not audio_url.startswith(\"https:\"):\n",
    "#force url to start with https if it doen't\n",
    "            audio_url = \"https:\" + audio_url\n",
    "#get name for downloaded  audio file\n",
    "        file_name = recording['file-name']\n",
    "#give path where audio file is saved\n",
    "        file_path = os.path.join(species, file_name)\n",
    "#try downloading and saving the audio file\n",
    "        try:\n",
    "#notify user about download\n",
    "            print(f\"Downloading {file_name}...\")\n",
    "#requests to download audio file\n",
    "            audio_response = requests.get(audio_url)\n",
    "            \n",
    "#check if download was a success\n",
    "            if audio_response.status_code == 200:\n",
    "                # Write the audio content to a file\n",
    "                with open(file_path, 'wb') as file:\n",
    "                    file.write(audio_response.content)\n",
    "                print(f\"Successfully downloaded: {file_name}\")  # Confirmation of successful download\n",
    "            else:\n",
    "                print(f\"Failed to download {file_name}: HTTP Status Code {audio_response.status_code}\")  # Handle download errors\n",
    "        except Exception as e:\n",
    "            print(f\"An error occurred while downloading {file_name}: {e}\")  # Catch and report any other errors\n",
    "\n",
    "if __name__ == \"__main__\":\n",
    "    bird_species = input(\"Enter bird species: \")  # Prompt user for a bird species\n",
    "    download_bird_sounds(bird_species)  # Call the function to download the bird sounds\n"
   ]
  },
  {
   "cell_type": "markdown",
   "id": "2a7f7ebf-15a0-4856-a198-2f6db7893ae4",
   "metadata": {},
   "source": [
    "For question 3, type $pip\\ install\\ requests$ on the terminal to enable loading and use of the request library inorder to handle requests of https"
   ]
  },
  {
   "cell_type": "code",
   "execution_count": null,
   "id": "6f193588-e2d1-48a0-bbdf-ff636af7f825",
   "metadata": {},
   "outputs": [],
   "source": []
  }
 ],
 "metadata": {
  "kernelspec": {
   "display_name": "Python 3 (ipykernel)",
   "language": "python",
   "name": "python3"
  },
  "language_info": {
   "codemirror_mode": {
    "name": "ipython",
    "version": 3
   },
   "file_extension": ".py",
   "mimetype": "text/x-python",
   "name": "python",
   "nbconvert_exporter": "python",
   "pygments_lexer": "ipython3",
   "version": "3.12.7"
  }
 },
 "nbformat": 4,
 "nbformat_minor": 5
}
